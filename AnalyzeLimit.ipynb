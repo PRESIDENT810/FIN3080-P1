{
 "cells": [
  {
   "cell_type": "code",
   "execution_count": 1,
   "metadata": {},
   "outputs": [],
   "source": [
    "import numpy as np\n",
    "import pandas as pd\n",
    "import matplotlib.pyplot as plt"
   ]
  },
  {
   "cell_type": "code",
   "execution_count": 2,
   "metadata": {},
   "outputs": [],
   "source": [
    "limit_df = pd.read_csv('./MSYH_limit.csv', index_col=0)"
   ]
  },
  {
   "cell_type": "code",
   "execution_count": 3,
   "metadata": {},
   "outputs": [
    {
     "data": {
      "text/html": [
       "<div>\n",
       "<style scoped>\n",
       "    .dataframe tbody tr th:only-of-type {\n",
       "        vertical-align: middle;\n",
       "    }\n",
       "\n",
       "    .dataframe tbody tr th {\n",
       "        vertical-align: top;\n",
       "    }\n",
       "\n",
       "    .dataframe thead th {\n",
       "        text-align: right;\n",
       "    }\n",
       "</style>\n",
       "<table border=\"1\" class=\"dataframe\">\n",
       "  <thead>\n",
       "    <tr style=\"text-align: right;\">\n",
       "      <th></th>\n",
       "      <th>Name</th>\n",
       "      <th>Date</th>\n",
       "      <th>ClosePriceA</th>\n",
       "      <th>ClosePriceH</th>\n",
       "      <th>ExchangeRate</th>\n",
       "      <th>AdjustedPrice(H)</th>\n",
       "      <th>A Growth</th>\n",
       "      <th>H Growth</th>\n",
       "      <th>PriceDiff</th>\n",
       "      <th>PriceDiffRate</th>\n",
       "    </tr>\n",
       "  </thead>\n",
       "  <tbody>\n",
       "    <tr>\n",
       "      <th>1163</th>\n",
       "      <td>民生银行</td>\n",
       "      <td>2014-12-02</td>\n",
       "      <td>7.91</td>\n",
       "      <td>8.71</td>\n",
       "      <td>0.79</td>\n",
       "      <td>6.8809</td>\n",
       "      <td>10.0139</td>\n",
       "      <td>5.5758</td>\n",
       "      <td>1.0291</td>\n",
       "      <td>0.130101</td>\n",
       "    </tr>\n",
       "    <tr>\n",
       "      <th>1302</th>\n",
       "      <td>民生银行</td>\n",
       "      <td>2015-07-07</td>\n",
       "      <td>10.73</td>\n",
       "      <td>8.98</td>\n",
       "      <td>0.79</td>\n",
       "      <td>7.0942</td>\n",
       "      <td>10.0513</td>\n",
       "      <td>-5.0740</td>\n",
       "      <td>3.6358</td>\n",
       "      <td>0.338844</td>\n",
       "    </tr>\n",
       "  </tbody>\n",
       "</table>\n",
       "</div>"
      ],
      "text/plain": [
       "      Name        Date  ClosePriceA  ClosePriceH  ExchangeRate  \\\n",
       "1163  民生银行  2014-12-02         7.91         8.71          0.79   \n",
       "1302  民生银行  2015-07-07        10.73         8.98          0.79   \n",
       "\n",
       "      AdjustedPrice(H)  A Growth  H Growth  PriceDiff  PriceDiffRate  \n",
       "1163            6.8809   10.0139    5.5758     1.0291       0.130101  \n",
       "1302            7.0942   10.0513   -5.0740     3.6358       0.338844  "
      ]
     },
     "execution_count": 3,
     "metadata": {},
     "output_type": "execute_result"
    }
   ],
   "source": [
    "limit_df.head()"
   ]
  },
  {
   "cell_type": "code",
   "execution_count": 4,
   "metadata": {},
   "outputs": [],
   "source": [
    "diff_mean = np.mean(limit_df['PriceDiff'])\n",
    "diff_std = np.std(limit_df['PriceDiff'])"
   ]
  },
  {
   "cell_type": "code",
   "execution_count": 5,
   "metadata": {},
   "outputs": [],
   "source": [
    "z_scores = []\n",
    "def compute_Z(row):\n",
    "    global z_scores\n",
    "    z_scores.append((row['PriceDiff']-diff_mean)/diff_std)"
   ]
  },
  {
   "cell_type": "code",
   "execution_count": 6,
   "metadata": {},
   "outputs": [
    {
     "data": {
      "text/plain": [
       "1163    None\n",
       "1302    None\n",
       "dtype: object"
      ]
     },
     "execution_count": 6,
     "metadata": {},
     "output_type": "execute_result"
    }
   ],
   "source": [
    "limit_df.apply(compute_Z, axis=1)"
   ]
  },
  {
   "cell_type": "code",
   "execution_count": 7,
   "metadata": {},
   "outputs": [
    {
     "data": {
      "text/plain": [
       "[-1.0000000000000002, 0.9999999999999998]"
      ]
     },
     "execution_count": 7,
     "metadata": {},
     "output_type": "execute_result"
    }
   ],
   "source": [
    "z_scores"
   ]
  },
  {
   "cell_type": "code",
   "execution_count": null,
   "metadata": {},
   "outputs": [],
   "source": []
  }
 ],
 "metadata": {
  "kernelspec": {
   "display_name": "Python 3",
   "language": "python",
   "name": "python3"
  },
  "language_info": {
   "codemirror_mode": {
    "name": "ipython",
    "version": 3
   },
   "file_extension": ".py",
   "mimetype": "text/x-python",
   "name": "python",
   "nbconvert_exporter": "python",
   "pygments_lexer": "ipython3",
   "version": "3.7.2"
  }
 },
 "nbformat": 4,
 "nbformat_minor": 2
}
