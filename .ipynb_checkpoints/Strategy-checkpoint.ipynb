{
 "cells": [
  {
   "cell_type": "code",
   "execution_count": 1,
   "metadata": {},
   "outputs": [],
   "source": [
    "import numpy as np\n",
    "import pandas as pd\n",
    "import matplotlib.pyplot as plt"
   ]
  },
  {
   "cell_type": "code",
   "execution_count": 2,
   "metadata": {},
   "outputs": [],
   "source": [
    "df = pd.read_csv('./ClosePrices.csv', index_col=0)"
   ]
  },
  {
   "cell_type": "markdown",
   "metadata": {},
   "source": [
    "### First analysis the stock market"
   ]
  },
  {
   "cell_type": "code",
   "execution_count": 3,
   "metadata": {},
   "outputs": [
    {
     "data": {
      "text/html": [
       "<div>\n",
       "<style scoped>\n",
       "    .dataframe tbody tr th:only-of-type {\n",
       "        vertical-align: middle;\n",
       "    }\n",
       "\n",
       "    .dataframe tbody tr th {\n",
       "        vertical-align: top;\n",
       "    }\n",
       "\n",
       "    .dataframe thead th {\n",
       "        text-align: right;\n",
       "    }\n",
       "</style>\n",
       "<table border=\"1\" class=\"dataframe\">\n",
       "  <thead>\n",
       "    <tr style=\"text-align: right;\">\n",
       "      <th></th>\n",
       "      <th>Name</th>\n",
       "      <th>Date</th>\n",
       "      <th>ClosePriceA</th>\n",
       "      <th>ClosePriceH</th>\n",
       "      <th>ExchangeRate</th>\n",
       "      <th>AdjustedPrice(H)</th>\n",
       "      <th>A Growth</th>\n",
       "      <th>H Growth</th>\n",
       "      <th>PriceDiff</th>\n",
       "      <th>PriceDiffRate</th>\n",
       "    </tr>\n",
       "  </thead>\n",
       "  <tbody>\n",
       "    <tr>\n",
       "      <th>1</th>\n",
       "      <td>民生银行</td>\n",
       "      <td>2010-12-28</td>\n",
       "      <td>7.56</td>\n",
       "      <td>8.33</td>\n",
       "      <td>0.85</td>\n",
       "      <td>7.0805</td>\n",
       "      <td>1.2048</td>\n",
       "      <td>-1.4201</td>\n",
       "      <td>0.4795</td>\n",
       "      <td>0.063426</td>\n",
       "    </tr>\n",
       "    <tr>\n",
       "      <th>2</th>\n",
       "      <td>民生银行</td>\n",
       "      <td>2010-12-29</td>\n",
       "      <td>7.66</td>\n",
       "      <td>8.33</td>\n",
       "      <td>0.85</td>\n",
       "      <td>7.0805</td>\n",
       "      <td>1.3228</td>\n",
       "      <td>0.0000</td>\n",
       "      <td>0.5795</td>\n",
       "      <td>0.075653</td>\n",
       "    </tr>\n",
       "    <tr>\n",
       "      <th>3</th>\n",
       "      <td>民生银行</td>\n",
       "      <td>2010-12-30</td>\n",
       "      <td>7.89</td>\n",
       "      <td>8.55</td>\n",
       "      <td>0.85</td>\n",
       "      <td>7.2675</td>\n",
       "      <td>3.0026</td>\n",
       "      <td>2.6411</td>\n",
       "      <td>0.6225</td>\n",
       "      <td>0.078897</td>\n",
       "    </tr>\n",
       "    <tr>\n",
       "      <th>4</th>\n",
       "      <td>民生银行</td>\n",
       "      <td>2010-12-31</td>\n",
       "      <td>7.91</td>\n",
       "      <td>8.72</td>\n",
       "      <td>0.85</td>\n",
       "      <td>7.4120</td>\n",
       "      <td>0.2535</td>\n",
       "      <td>1.9883</td>\n",
       "      <td>0.4980</td>\n",
       "      <td>0.062958</td>\n",
       "    </tr>\n",
       "    <tr>\n",
       "      <th>5</th>\n",
       "      <td>民生银行</td>\n",
       "      <td>2010-01-04</td>\n",
       "      <td>7.93</td>\n",
       "      <td>8.87</td>\n",
       "      <td>0.88</td>\n",
       "      <td>7.8056</td>\n",
       "      <td>0.2528</td>\n",
       "      <td>1.7202</td>\n",
       "      <td>0.1244</td>\n",
       "      <td>0.015687</td>\n",
       "    </tr>\n",
       "  </tbody>\n",
       "</table>\n",
       "</div>"
      ],
      "text/plain": [
       "   Name        Date  ClosePriceA  ClosePriceH  ExchangeRate  AdjustedPrice(H)  \\\n",
       "1  民生银行  2010-12-28         7.56         8.33          0.85            7.0805   \n",
       "2  民生银行  2010-12-29         7.66         8.33          0.85            7.0805   \n",
       "3  民生银行  2010-12-30         7.89         8.55          0.85            7.2675   \n",
       "4  民生银行  2010-12-31         7.91         8.72          0.85            7.4120   \n",
       "5  民生银行  2010-01-04         7.93         8.87          0.88            7.8056   \n",
       "\n",
       "   A Growth  H Growth  PriceDiff  PriceDiffRate  \n",
       "1    1.2048   -1.4201     0.4795       0.063426  \n",
       "2    1.3228    0.0000     0.5795       0.075653  \n",
       "3    3.0026    2.6411     0.6225       0.078897  \n",
       "4    0.2535    1.9883     0.4980       0.062958  \n",
       "5    0.2528    1.7202     0.1244       0.015687  "
      ]
     },
     "execution_count": 3,
     "metadata": {},
     "output_type": "execute_result"
    }
   ],
   "source": [
    "df.head()"
   ]
  },
  {
   "cell_type": "code",
   "execution_count": 4,
   "metadata": {},
   "outputs": [],
   "source": [
    "### use a small df\n",
    "# df = df.loc[:200]"
   ]
  },
  {
   "cell_type": "code",
   "execution_count": 5,
   "metadata": {},
   "outputs": [],
   "source": [
    "df = df.dropna(axis=0)"
   ]
  },
  {
   "cell_type": "markdown",
   "metadata": {},
   "source": [
    "### Build strategy"
   ]
  },
  {
   "cell_type": "code",
   "execution_count": 6,
   "metadata": {},
   "outputs": [],
   "source": [
    "class Market:\n",
    "    def __init__(self, A_price, H_price, adjustedA):\n",
    "        self.A_price = A_price\n",
    "        self.H_price = H_price\n",
    "        self.adjustedA = adjustedA\n",
    "        self.pricediff = A_price - adjustedA ### how much A share is higher than adjusted H share"
   ]
  },
  {
   "cell_type": "code",
   "execution_count": 7,
   "metadata": {},
   "outputs": [],
   "source": [
    "class Trader:\n",
    "    def __init__(self, A_hold, H_hold, fund):\n",
    "        self.A_hold = A_hold\n",
    "        self.H_hold = H_hold\n",
    "        self.fund = fund\n",
    "        self.buyDiff = None\n",
    "        self.signal = 0 ### 1: buy H sell A; -1: buy A sell H\n",
    "        self.state = 0 ### 1: 持仓 0: 平仓\n",
    "        self.hold_time = 0\n",
    "        \n",
    "    def buyA(self, A_buy, market):\n",
    "        self.A_hold += A_buy\n",
    "        self.fund -= market.A_price*A_buy\n",
    "        \n",
    "    def buyH(self, H_buy, market):\n",
    "        self.H_hold += H_buy\n",
    "        self.fund -= market.adjustedA*H_buy\n",
    "        \n",
    "    def longH(self, market, diff):\n",
    "        self.signal = 1\n",
    "        self.buyA(-1, market)\n",
    "        self.buyH(1, market)\n",
    "        self.buyDiff = diff\n",
    "        self.state = 1\n",
    "    \n",
    "    def shortH(self, market, diff):\n",
    "        self.signal = -1\n",
    "        self.buyA(1, market)\n",
    "        self.buyH(-1, market)\n",
    "        self.buyDiff = None\n",
    "        self.state = 0\n",
    "        self.hold_time = 0\n",
    "    \n",
    "    def deal(self, market, mean, std):\n",
    "        diff = market.pricediff\n",
    "        if self.state == 1:\n",
    "            self.hold_time += 1\n",
    "        \n",
    "        ### if hold too long, close a position\n",
    "        if self.hold_time >= 30:\n",
    "            self.shortH(market, diff)\n",
    "            return\n",
    "        \n",
    "        if self.state == 0:\n",
    "            if diff>mean+0.2*std:\n",
    "                self.longH(market, diff)\n",
    "            else:\n",
    "                self.signal = 0\n",
    "        \n",
    "        elif self.state == 1:\n",
    "            if diff < self.buyDiff-0.5*std:\n",
    "                self.shortH(market, diff)\n",
    "            else:\n",
    "                self.signal = 0"
   ]
  },
  {
   "cell_type": "code",
   "execution_count": 8,
   "metadata": {
    "scrolled": true
   },
   "outputs": [],
   "source": [
    "### some graphic info\n",
    "signal_hist = []\n",
    "fund_hist = []\n",
    "A_hold_hist = []\n",
    "H_hold_hist = []\n",
    "state_hist = []\n",
    "return_hist = []\n",
    "\n",
    "### a very simple test\n",
    "### superparameters\n",
    "INIT_A_SHARE = 0\n",
    "INIT_H_SHARE = 0\n",
    "FUND = 0\n",
    "PERIOD = 50\n",
    "\n",
    "trader = Trader(INIT_A_SHARE, INIT_H_SHARE, FUND)\n",
    "for row in df.iterrows():\n",
    "    idx = row[0]\n",
    "    row = row[1]\n",
    "    A_price = row['ClosePriceA']\n",
    "    H_price = row['ClosePriceH']\n",
    "    adjustedA = row['AdjustedPrice(H)']\n",
    "    market = Market(A_price, H_price, adjustedA)\n",
    "    period_df = df.loc[idx-PERIOD:idx-1]\n",
    "    mean = np.mean(period_df['PriceDiff'])\n",
    "    std = np.std(period_df['PriceDiff'])\n",
    "    trader.deal(market, mean, std)\n",
    "    \n",
    "    ### for debug\n",
    "\n",
    "    \n",
    "    ### add info to histogram\n",
    "    signal_hist.append(trader.signal)\n",
    "    fund_hist.append(trader.fund)\n",
    "    A_hold_hist.append(trader.A_hold)\n",
    "    H_hold_hist.append(trader.H_hold)\n",
    "    state_hist.append(trader.state)"
   ]
  },
  {
   "cell_type": "code",
   "execution_count": 9,
   "metadata": {},
   "outputs": [
    {
     "data": {
      "image/png": "[encoded data removed]",
      "text/plain": [
       "<Figure size 864x576 with 4 Axes>"
      ]
     },
     "metadata": {
      "needs_background": "light"
     },
     "output_type": "display_data"
    }
   ],
   "source": [
    "fig = plt.figure(figsize=(12,8))\n",
    "plt.subplot(2,2,1)\n",
    "plt.plot(signal_hist)\n",
    "plt.title(\"Signal\")\n",
    "\n",
    "plt.subplot(2,2,2)\n",
    "plt.plot(fund_hist)\n",
    "plt.title(\"Trader Fund\")\n",
    "\n",
    "plt.subplot(2,2,3)\n",
    "plt.plot(A_hold_hist)\n",
    "plt.title(\"A Share Hold\")\n",
    "\n",
    "plt.subplot(2,2,4)\n",
    "plt.plot(H_hold_hist)\n",
    "plt.title(\"H Share Hold\")\n",
    "\n",
    "signal_hist = []\n",
    "fund_hist = []\n",
    "A_hold_hist = []\n",
    "H_hold_hist = []"
   ]
  },
  {
   "cell_type": "code",
   "execution_count": 10,
   "metadata": {},
   "outputs": [
    {
     "data": {
      "text/plain": [
       "0"
      ]
     },
     "execution_count": 10,
     "metadata": {},
     "output_type": "execute_result"
    }
   ],
   "source": [
    "trader.A_hold"
   ]
  },
  {
   "cell_type": "code",
   "execution_count": 11,
   "metadata": {
    "scrolled": true
   },
   "outputs": [
    {
     "data": {
      "text/plain": [
       "0"
      ]
     },
     "execution_count": 11,
     "metadata": {},
     "output_type": "execute_result"
    }
   ],
   "source": [
    "trader.H_hold"
   ]
  },
  {
   "cell_type": "code",
   "execution_count": 12,
   "metadata": {
    "scrolled": true
   },
   "outputs": [
    {
     "data": {
      "text/plain": [
       "13.303399999999975"
      ]
     },
     "execution_count": 12,
     "metadata": {},
     "output_type": "execute_result"
    }
   ],
   "source": [
    "trader.fund"
   ]
  },
  {
   "cell_type": "markdown",
   "metadata": {},
   "source": [
    "### Alternative strategy 1: hold A to the end"
   ]
  },
  {
   "cell_type": "code",
   "execution_count": 14,
   "metadata": {},
   "outputs": [],
   "source": [
    "init_Aprice = df.iloc[0]['ClosePriceA']\n",
    "final_Aprice = df.iloc[-1]['ClosePriceA']"
   ]
  },
  {
   "cell_type": "code",
   "execution_count": 16,
   "metadata": {},
   "outputs": [
    {
     "data": {
      "text/plain": [
       "-1.8299999999999992"
      ]
     },
     "execution_count": 16,
     "metadata": {},
     "output_type": "execute_result"
    }
   ],
   "source": [
    "A1profit = final_Aprice-init_Aprice\n",
    "A1profit"
   ]
  },
  {
   "cell_type": "code",
   "execution_count": null,
   "metadata": {},
   "outputs": [],
   "source": [
    "AdjustedPrice(H)"
   ]
  }
 ],
 "metadata": {
  "kernelspec": {
   "display_name": "Python 3",
   "language": "python",
   "name": "python3"
  },
  "language_info": {
   "codemirror_mode": {
    "name": "ipython",
    "version": 3
   },
   "file_extension": ".py",
   "mimetype": "text/x-python",
   "name": "python",
   "nbconvert_exporter": "python",
   "pygments_lexer": "ipython3",
   "version": "3.7.2"
  }
 },
 "nbformat": 4,
 "nbformat_minor": 2
}
