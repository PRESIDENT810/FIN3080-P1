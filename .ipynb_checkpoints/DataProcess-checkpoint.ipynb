{
 "cells": [
  {
   "cell_type": "code",
   "execution_count": 1,
   "metadata": {},
   "outputs": [],
   "source": [
    "import numpy as np\n",
    "import pandas as pd\n",
    "import matplotlib.pyplot as plt"
   ]
  },
  {
   "cell_type": "code",
   "execution_count": 2,
   "metadata": {},
   "outputs": [],
   "source": [
    "A_df = pd.read_csv('./csv/600016.SH.csv')"
   ]
  },
  {
   "cell_type": "code",
   "execution_count": 3,
   "metadata": {},
   "outputs": [
    {
     "data": {
      "text/html": [
       "<div>\n",
       "<style scoped>\n",
       "    .dataframe tbody tr th:only-of-type {\n",
       "        vertical-align: middle;\n",
       "    }\n",
       "\n",
       "    .dataframe tbody tr th {\n",
       "        vertical-align: top;\n",
       "    }\n",
       "\n",
       "    .dataframe thead th {\n",
       "        text-align: right;\n",
       "    }\n",
       "</style>\n",
       "<table border=\"1\" class=\"dataframe\">\n",
       "  <thead>\n",
       "    <tr style=\"text-align: right;\">\n",
       "      <th></th>\n",
       "      <th>代码</th>\n",
       "      <th>简称</th>\n",
       "      <th>日期</th>\n",
       "      <th>前收盘价(元)</th>\n",
       "      <th>开盘价(元)</th>\n",
       "      <th>最高价(元)</th>\n",
       "      <th>最低价(元)</th>\n",
       "      <th>收盘价(元)</th>\n",
       "      <th>成交量(股)</th>\n",
       "      <th>成交金额(元)</th>\n",
       "      <th>涨跌(元)</th>\n",
       "      <th>涨跌幅(%)</th>\n",
       "      <th>均价(元)</th>\n",
       "    </tr>\n",
       "  </thead>\n",
       "  <tbody>\n",
       "    <tr>\n",
       "      <th>0</th>\n",
       "      <td>600016.SH</td>\n",
       "      <td>民生银行</td>\n",
       "      <td>2000-12-19</td>\n",
       "      <td>--</td>\n",
       "      <td>20.00</td>\n",
       "      <td>21.00</td>\n",
       "      <td>18.50</td>\n",
       "      <td>18.56</td>\n",
       "      <td>156352456</td>\n",
       "      <td>3058872084</td>\n",
       "      <td>--</td>\n",
       "      <td>--</td>\n",
       "      <td>19.5640</td>\n",
       "    </tr>\n",
       "    <tr>\n",
       "      <th>1</th>\n",
       "      <td>600016.SH</td>\n",
       "      <td>民生银行</td>\n",
       "      <td>2000-12-20</td>\n",
       "      <td>18.56</td>\n",
       "      <td>18.47</td>\n",
       "      <td>18.47</td>\n",
       "      <td>17.91</td>\n",
       "      <td>18.10</td>\n",
       "      <td>29046713</td>\n",
       "      <td>526016570</td>\n",
       "      <td>-0.46</td>\n",
       "      <td>-2.4784</td>\n",
       "      <td>18.1093</td>\n",
       "    </tr>\n",
       "    <tr>\n",
       "      <th>2</th>\n",
       "      <td>600016.SH</td>\n",
       "      <td>民生银行</td>\n",
       "      <td>2000-12-21</td>\n",
       "      <td>18.10</td>\n",
       "      <td>18.18</td>\n",
       "      <td>18.48</td>\n",
       "      <td>18.00</td>\n",
       "      <td>18.09</td>\n",
       "      <td>11362956</td>\n",
       "      <td>206705741</td>\n",
       "      <td>-0.01</td>\n",
       "      <td>-0.0552</td>\n",
       "      <td>18.1912</td>\n",
       "    </tr>\n",
       "    <tr>\n",
       "      <th>3</th>\n",
       "      <td>600016.SH</td>\n",
       "      <td>民生银行</td>\n",
       "      <td>2000-12-22</td>\n",
       "      <td>18.09</td>\n",
       "      <td>18.10</td>\n",
       "      <td>18.17</td>\n",
       "      <td>17.60</td>\n",
       "      <td>17.66</td>\n",
       "      <td>13026488</td>\n",
       "      <td>231272602</td>\n",
       "      <td>-0.43</td>\n",
       "      <td>-2.3770</td>\n",
       "      <td>17.7540</td>\n",
       "    </tr>\n",
       "    <tr>\n",
       "      <th>4</th>\n",
       "      <td>600016.SH</td>\n",
       "      <td>民生银行</td>\n",
       "      <td>2000-12-25</td>\n",
       "      <td>17.66</td>\n",
       "      <td>17.60</td>\n",
       "      <td>17.62</td>\n",
       "      <td>17.01</td>\n",
       "      <td>17.20</td>\n",
       "      <td>10113120</td>\n",
       "      <td>174453021</td>\n",
       "      <td>-0.46</td>\n",
       "      <td>-2.6048</td>\n",
       "      <td>17.2502</td>\n",
       "    </tr>\n",
       "  </tbody>\n",
       "</table>\n",
       "</div>"
      ],
      "text/plain": [
       "          代码    简称          日期 前收盘价(元)  开盘价(元)  最高价(元)  最低价(元)  收盘价(元)  \\\n",
       "0  600016.SH  民生银行  2000-12-19      --   20.00   21.00   18.50   18.56   \n",
       "1  600016.SH  民生银行  2000-12-20   18.56   18.47   18.47   17.91   18.10   \n",
       "2  600016.SH  民生银行  2000-12-21   18.10   18.18   18.48   18.00   18.09   \n",
       "3  600016.SH  民生银行  2000-12-22   18.09   18.10   18.17   17.60   17.66   \n",
       "4  600016.SH  民生银行  2000-12-25   17.66   17.60   17.62   17.01   17.20   \n",
       "\n",
       "      成交量(股)     成交金额(元)  涨跌(元)   涨跌幅(%)    均价(元)  \n",
       "0  156352456  3058872084     --       --  19.5640  \n",
       "1   29046713   526016570  -0.46  -2.4784  18.1093  \n",
       "2   11362956   206705741  -0.01  -0.0552  18.1912  \n",
       "3   13026488   231272602  -0.43  -2.3770  17.7540  \n",
       "4   10113120   174453021  -0.46  -2.6048  17.2502  "
      ]
     },
     "execution_count": 3,
     "metadata": {},
     "output_type": "execute_result"
    }
   ],
   "source": [
    "A_df.head()"
   ]
  },
  {
   "cell_type": "code",
   "execution_count": 4,
   "metadata": {},
   "outputs": [],
   "source": [
    "H_df = pd.read_csv('./csv/1988.HK.csv')"
   ]
  },
  {
   "cell_type": "code",
   "execution_count": 5,
   "metadata": {},
   "outputs": [
    {
     "data": {
      "text/html": [
       "<div>\n",
       "<style scoped>\n",
       "    .dataframe tbody tr th:only-of-type {\n",
       "        vertical-align: middle;\n",
       "    }\n",
       "\n",
       "    .dataframe tbody tr th {\n",
       "        vertical-align: top;\n",
       "    }\n",
       "\n",
       "    .dataframe thead th {\n",
       "        text-align: right;\n",
       "    }\n",
       "</style>\n",
       "<table border=\"1\" class=\"dataframe\">\n",
       "  <thead>\n",
       "    <tr style=\"text-align: right;\">\n",
       "      <th></th>\n",
       "      <th>代码</th>\n",
       "      <th>简称</th>\n",
       "      <th>日期</th>\n",
       "      <th>前收盘价(元)</th>\n",
       "      <th>开盘价(元)</th>\n",
       "      <th>最高价(元)</th>\n",
       "      <th>最低价(元)</th>\n",
       "      <th>收盘价(元)</th>\n",
       "      <th>成交量(股)</th>\n",
       "      <th>成交金额(元)</th>\n",
       "      <th>涨跌(元)</th>\n",
       "      <th>涨跌幅(%)</th>\n",
       "      <th>均价(元)</th>\n",
       "    </tr>\n",
       "  </thead>\n",
       "  <tbody>\n",
       "    <tr>\n",
       "      <th>0</th>\n",
       "      <td>1988.HK</td>\n",
       "      <td>民生银行</td>\n",
       "      <td>2009-11-26</td>\n",
       "      <td>--</td>\n",
       "      <td>9.05</td>\n",
       "      <td>9.07</td>\n",
       "      <td>8.78</td>\n",
       "      <td>8.80</td>\n",
       "      <td>776221500</td>\n",
       "      <td>6960884789</td>\n",
       "      <td>--</td>\n",
       "      <td>--</td>\n",
       "      <td>8.9677</td>\n",
       "    </tr>\n",
       "    <tr>\n",
       "      <th>1</th>\n",
       "      <td>1988.HK</td>\n",
       "      <td>民生银行</td>\n",
       "      <td>2009-11-27</td>\n",
       "      <td>8.80</td>\n",
       "      <td>8.49</td>\n",
       "      <td>8.79</td>\n",
       "      <td>8.47</td>\n",
       "      <td>8.64</td>\n",
       "      <td>218904000</td>\n",
       "      <td>1888041550</td>\n",
       "      <td>-0.16</td>\n",
       "      <td>-1.8182</td>\n",
       "      <td>8.6250</td>\n",
       "    </tr>\n",
       "    <tr>\n",
       "      <th>2</th>\n",
       "      <td>1988.HK</td>\n",
       "      <td>民生银行</td>\n",
       "      <td>2009-11-30</td>\n",
       "      <td>8.64</td>\n",
       "      <td>8.85</td>\n",
       "      <td>8.90</td>\n",
       "      <td>8.71</td>\n",
       "      <td>8.77</td>\n",
       "      <td>91107500</td>\n",
       "      <td>804294596</td>\n",
       "      <td>0.13</td>\n",
       "      <td>1.5046</td>\n",
       "      <td>8.8280</td>\n",
       "    </tr>\n",
       "    <tr>\n",
       "      <th>3</th>\n",
       "      <td>1988.HK</td>\n",
       "      <td>民生银行</td>\n",
       "      <td>2009-12-01</td>\n",
       "      <td>8.77</td>\n",
       "      <td>8.80</td>\n",
       "      <td>8.82</td>\n",
       "      <td>8.70</td>\n",
       "      <td>8.73</td>\n",
       "      <td>39991246</td>\n",
       "      <td>349579888</td>\n",
       "      <td>-0.04</td>\n",
       "      <td>-0.4561</td>\n",
       "      <td>8.7414</td>\n",
       "    </tr>\n",
       "    <tr>\n",
       "      <th>4</th>\n",
       "      <td>1988.HK</td>\n",
       "      <td>民生银行</td>\n",
       "      <td>2009-12-02</td>\n",
       "      <td>8.73</td>\n",
       "      <td>8.80</td>\n",
       "      <td>8.85</td>\n",
       "      <td>8.77</td>\n",
       "      <td>8.77</td>\n",
       "      <td>47713500</td>\n",
       "      <td>419943495</td>\n",
       "      <td>-0.04</td>\n",
       "      <td>0.4582</td>\n",
       "      <td>8.8014</td>\n",
       "    </tr>\n",
       "  </tbody>\n",
       "</table>\n",
       "</div>"
      ],
      "text/plain": [
       "        代码    简称          日期 前收盘价(元)  开盘价(元) 最高价(元) 最低价(元)  收盘价(元)     成交量(股)  \\\n",
       "0  1988.HK  民生银行  2009-11-26      --    9.05   9.07   8.78    8.80  776221500   \n",
       "1  1988.HK  民生银行  2009-11-27    8.80    8.49   8.79   8.47    8.64  218904000   \n",
       "2  1988.HK  民生银行  2009-11-30    8.64    8.85   8.90   8.71    8.77   91107500   \n",
       "3  1988.HK  民生银行  2009-12-01    8.77    8.80   8.82   8.70    8.73   39991246   \n",
       "4  1988.HK  民生银行  2009-12-02    8.73    8.80   8.85   8.77    8.77   47713500   \n",
       "\n",
       "      成交金额(元)  涨跌(元)   涨跌幅(%)   均价(元)  \n",
       "0  6960884789     --       --  8.9677  \n",
       "1  1888041550  -0.16  -1.8182  8.6250  \n",
       "2   804294596   0.13   1.5046  8.8280  \n",
       "3   349579888  -0.04  -0.4561  8.7414  \n",
       "4   419943495  -0.04   0.4582  8.8014  "
      ]
     },
     "execution_count": 5,
     "metadata": {},
     "output_type": "execute_result"
    }
   ],
   "source": [
    "H_df.head()"
   ]
  },
  {
   "cell_type": "code",
   "execution_count": 6,
   "metadata": {},
   "outputs": [],
   "source": [
    "EX_df = pd.read_csv('./csv/人民币汇率(日).csv')\n",
    "EX_df = EX_df.iloc[1:]"
   ]
  },
  {
   "cell_type": "code",
   "execution_count": 7,
   "metadata": {},
   "outputs": [
    {
     "data": {
      "text/html": [
       "<div>\n",
       "<style scoped>\n",
       "    .dataframe tbody tr th:only-of-type {\n",
       "        vertical-align: middle;\n",
       "    }\n",
       "\n",
       "    .dataframe tbody tr th {\n",
       "        vertical-align: top;\n",
       "    }\n",
       "\n",
       "    .dataframe thead th {\n",
       "        text-align: right;\n",
       "    }\n",
       "</style>\n",
       "<table border=\"1\" class=\"dataframe\">\n",
       "  <thead>\n",
       "    <tr style=\"text-align: right;\">\n",
       "      <th></th>\n",
       "      <th>指标名称</th>\n",
       "      <th>中间价:港元兑人民币</th>\n",
       "    </tr>\n",
       "  </thead>\n",
       "  <tbody>\n",
       "    <tr>\n",
       "      <th>1</th>\n",
       "      <td>1994-09-01</td>\n",
       "      <td>1.11</td>\n",
       "    </tr>\n",
       "    <tr>\n",
       "      <th>2</th>\n",
       "      <td>1994-09-02</td>\n",
       "      <td>1.11</td>\n",
       "    </tr>\n",
       "    <tr>\n",
       "      <th>3</th>\n",
       "      <td>1994-09-05</td>\n",
       "      <td>1.11</td>\n",
       "    </tr>\n",
       "    <tr>\n",
       "      <th>4</th>\n",
       "      <td>1994-09-06</td>\n",
       "      <td>1.11</td>\n",
       "    </tr>\n",
       "    <tr>\n",
       "      <th>5</th>\n",
       "      <td>1994-09-07</td>\n",
       "      <td>1.11</td>\n",
       "    </tr>\n",
       "  </tbody>\n",
       "</table>\n",
       "</div>"
      ],
      "text/plain": [
       "         指标名称 中间价:港元兑人民币\n",
       "1  1994-09-01       1.11\n",
       "2  1994-09-02       1.11\n",
       "3  1994-09-05       1.11\n",
       "4  1994-09-06       1.11\n",
       "5  1994-09-07       1.11"
      ]
     },
     "execution_count": 7,
     "metadata": {},
     "output_type": "execute_result"
    }
   ],
   "source": [
    "EX_df.head()"
   ]
  },
  {
   "cell_type": "code",
   "execution_count": 8,
   "metadata": {},
   "outputs": [],
   "source": [
    "def filtDate(stock_df):\n",
    "    return stock_df[(stock_df['日期']>='2010') & (stock_df['日期']<='2019')]"
   ]
  },
  {
   "cell_type": "code",
   "execution_count": 9,
   "metadata": {},
   "outputs": [],
   "source": [
    "A_df = filtDate(A_df)\n",
    "H_df = filtDate(H_df)"
   ]
  },
  {
   "cell_type": "code",
   "execution_count": 10,
   "metadata": {},
   "outputs": [],
   "source": [
    "compare_df = pd.DataFrame({\n",
    "    'Name':[],\n",
    "    'Date':[],\n",
    "    'ClosePriceA':[],\n",
    "    'ClosePriceH':[],\n",
    "    'ExchangeRate':[],\n",
    "    'AdjustedPrice(H)':[],\n",
    "    'A Growth':[],\n",
    "    'H Growth':[],\n",
    "    'PriceDiff':[],\n",
    "    'PriceDiffRate':[],\n",
    "})"
   ]
  },
  {
   "cell_type": "code",
   "execution_count": 11,
   "metadata": {},
   "outputs": [],
   "source": [
    "def date_inH(row):\n",
    "    global compare_df\n",
    "    date = row['日期']\n",
    "    name = row['简称']\n",
    "    if date in H_df['日期'].values:\n",
    "        close_A = row['收盘价(元)']\n",
    "        growth_A = row['涨跌幅(%)']\n",
    "        close_H_row = H_df[H_df['日期'].isin([date])]\n",
    "        close_H = close_H_row['收盘价(元)'].values[0]\n",
    "        growth_H = close_H_row['涨跌幅(%)'].values[0]\n",
    "        EX_rate_row = EX_df[EX_df['指标名称']==date]\n",
    "        ExpectedA = None\n",
    "        try:\n",
    "            EX_rate = EX_rate_row['中间价:港元兑人民币'].values[0]\n",
    "            ExpectedA = close_H*float(EX_rate)\n",
    "            price_diff = close_A-ExpectedA\n",
    "            price_dfffrate = price_diff/close_A\n",
    "        except:\n",
    "            print(date, ' no exchange rate')\n",
    "            EX_rate = None\n",
    "            price_diff = None\n",
    "            price_dfffrate = None\n",
    "        compare_df.loc[compare_df.shape[0]+1] = {\n",
    "            'Name':name, \n",
    "            'Date':date, \n",
    "            'ClosePriceA':close_A, \n",
    "            'ClosePriceH':close_H, \n",
    "            'ExchangeRate': EX_rate, \n",
    "            'AdjustedPrice(H)': ExpectedA,\n",
    "            'A Growth': growth_A, \n",
    "            'H Growth': growth_H,\n",
    "            'PriceDiff':price_diff,\n",
    "            'PriceDiffRate':price_dfffrate\n",
    "        }\n",
    "    else:\n",
    "        return"
   ]
  },
  {
   "cell_type": "code",
   "execution_count": 12,
   "metadata": {},
   "outputs": [
    {
     "name": "stdout",
     "output_type": "stream",
     "text": [
      "2011-12-31  no exchange rate\n",
      "2016-12-31  no exchange rate\n"
     ]
    }
   ],
   "source": [
    "def skip_opt():\n",
    "    A_df.apply(date_inH, axis=1)\n",
    "skip_opt()"
   ]
  },
  {
   "cell_type": "code",
   "execution_count": 13,
   "metadata": {},
   "outputs": [],
   "source": [
    "compare_df['AdjustedPrice(H)'] = compare_df['AdjustedPrice(H)'].astype(float)"
   ]
  },
  {
   "cell_type": "code",
   "execution_count": 14,
   "metadata": {},
   "outputs": [
    {
     "data": {
      "text/html": [
       "<div>\n",
       "<style scoped>\n",
       "    .dataframe tbody tr th:only-of-type {\n",
       "        vertical-align: middle;\n",
       "    }\n",
       "\n",
       "    .dataframe tbody tr th {\n",
       "        vertical-align: top;\n",
       "    }\n",
       "\n",
       "    .dataframe thead th {\n",
       "        text-align: right;\n",
       "    }\n",
       "</style>\n",
       "<table border=\"1\" class=\"dataframe\">\n",
       "  <thead>\n",
       "    <tr style=\"text-align: right;\">\n",
       "      <th></th>\n",
       "      <th>Name</th>\n",
       "      <th>Date</th>\n",
       "      <th>ClosePriceA</th>\n",
       "      <th>ClosePriceH</th>\n",
       "      <th>ExchangeRate</th>\n",
       "      <th>AdjustedPrice(H)</th>\n",
       "      <th>A Growth</th>\n",
       "      <th>H Growth</th>\n",
       "      <th>PriceDiff</th>\n",
       "      <th>PriceDiffRate</th>\n",
       "    </tr>\n",
       "  </thead>\n",
       "  <tbody>\n",
       "    <tr>\n",
       "      <th>1</th>\n",
       "      <td>民生银行</td>\n",
       "      <td>2010-12-28</td>\n",
       "      <td>7.56</td>\n",
       "      <td>8.33</td>\n",
       "      <td>0.85</td>\n",
       "      <td>7.0805</td>\n",
       "      <td>1.2048</td>\n",
       "      <td>-1.4201</td>\n",
       "      <td>0.4795</td>\n",
       "      <td>0.0634259</td>\n",
       "    </tr>\n",
       "    <tr>\n",
       "      <th>2</th>\n",
       "      <td>民生银行</td>\n",
       "      <td>2010-12-29</td>\n",
       "      <td>7.66</td>\n",
       "      <td>8.33</td>\n",
       "      <td>0.85</td>\n",
       "      <td>7.0805</td>\n",
       "      <td>1.3228</td>\n",
       "      <td>0.0000</td>\n",
       "      <td>0.5795</td>\n",
       "      <td>0.0756527</td>\n",
       "    </tr>\n",
       "    <tr>\n",
       "      <th>3</th>\n",
       "      <td>民生银行</td>\n",
       "      <td>2010-12-30</td>\n",
       "      <td>7.89</td>\n",
       "      <td>8.55</td>\n",
       "      <td>0.85</td>\n",
       "      <td>7.2675</td>\n",
       "      <td>3.0026</td>\n",
       "      <td>2.6411</td>\n",
       "      <td>0.6225</td>\n",
       "      <td>0.0788973</td>\n",
       "    </tr>\n",
       "    <tr>\n",
       "      <th>4</th>\n",
       "      <td>民生银行</td>\n",
       "      <td>2010-12-31</td>\n",
       "      <td>7.91</td>\n",
       "      <td>8.72</td>\n",
       "      <td>0.85</td>\n",
       "      <td>7.4120</td>\n",
       "      <td>0.2535</td>\n",
       "      <td>1.9883</td>\n",
       "      <td>0.498</td>\n",
       "      <td>0.0629583</td>\n",
       "    </tr>\n",
       "    <tr>\n",
       "      <th>5</th>\n",
       "      <td>民生银行</td>\n",
       "      <td>2010-01-04</td>\n",
       "      <td>7.93</td>\n",
       "      <td>8.87</td>\n",
       "      <td>0.88</td>\n",
       "      <td>7.8056</td>\n",
       "      <td>0.2528</td>\n",
       "      <td>1.7202</td>\n",
       "      <td>0.1244</td>\n",
       "      <td>0.0156873</td>\n",
       "    </tr>\n",
       "  </tbody>\n",
       "</table>\n",
       "</div>"
      ],
      "text/plain": [
       "   Name        Date  ClosePriceA  ClosePriceH ExchangeRate  AdjustedPrice(H)  \\\n",
       "1  民生银行  2010-12-28         7.56         8.33         0.85            7.0805   \n",
       "2  民生银行  2010-12-29         7.66         8.33         0.85            7.0805   \n",
       "3  民生银行  2010-12-30         7.89         8.55         0.85            7.2675   \n",
       "4  民生银行  2010-12-31         7.91         8.72         0.85            7.4120   \n",
       "5  民生银行  2010-01-04         7.93         8.87         0.88            7.8056   \n",
       "\n",
       "  A Growth H Growth PriceDiff PriceDiffRate  \n",
       "1   1.2048  -1.4201    0.4795     0.0634259  \n",
       "2   1.3228   0.0000    0.5795     0.0756527  \n",
       "3   3.0026   2.6411    0.6225     0.0788973  \n",
       "4   0.2535   1.9883     0.498     0.0629583  \n",
       "5   0.2528   1.7202    0.1244     0.0156873  "
      ]
     },
     "execution_count": 14,
     "metadata": {},
     "output_type": "execute_result"
    }
   ],
   "source": [
    "compare_df.head()"
   ]
  },
  {
   "cell_type": "code",
   "execution_count": 15,
   "metadata": {},
   "outputs": [],
   "source": [
    "compare_df.to_csv('./ClosePrices.csv')"
   ]
  },
  {
   "cell_type": "code",
   "execution_count": 16,
   "metadata": {},
   "outputs": [
    {
     "data": {
      "image/png": "[encoded data removed]",
      "text/plain": [
       "<Figure size 864x576 with 1 Axes>"
      ]
     },
     "metadata": {
      "needs_background": "light"
     },
     "output_type": "display_data"
    }
   ],
   "source": [
    "fig = plt.figure(figsize=(12,8))\n",
    "plt.plot(compare_df['ClosePriceA'], 'r', label='A Share Close Price')\n",
    "plt.plot(compare_df['AdjustedPrice(H)'], 'b', label='Adjusted H Share Close Price')\n",
    "plt.legend(loc=1)\n",
    "\n",
    "plt.xlabel(\"Date\")\n",
    "plt.ylabel('Close Price')\n",
    "plt.savefig('./Close Price A share.png')"
   ]
  },
  {
   "cell_type": "code",
   "execution_count": null,
   "metadata": {},
   "outputs": [
    {
     "data": {
      "text/plain": [
       "Text(0,0.5,'Growth')"
      ]
     },
     "execution_count": 17,
     "metadata": {},
     "output_type": "execute_result"
    }
   ],
   "source": [
    "fig = plt.figure(figsize=(12,8))\n",
    "plt.plot(compare_df['A Growth'], 'r', label='A Growth')\n",
    "plt.plot(compare_df['H Growth'], 'b', label='H Growth')\n",
    "plt.legend(loc=1)\n",
    "\n",
    "plt.xlabel(\"Date\")\n",
    "plt.ylabel('Growth')"
   ]
  },
  {
   "cell_type": "code",
   "execution_count": null,
   "metadata": {},
   "outputs": [],
   "source": [
    "compare_df['A Growth'] = compare_df['A Growth'].astype(float)\n",
    "compare_df['H Growth'] = compare_df['H Growth'].astype(float)\n",
    "limit_df = compare_df[(compare_df['A Growth']>=10) | (compare_df['A Growth']<=-10)]\n",
    "limit_df.head()"
   ]
  },
  {
   "cell_type": "code",
   "execution_count": null,
   "metadata": {},
   "outputs": [],
   "source": [
    "limit_df.to_csv('./ZXTX_limit.csv')"
   ]
  },
  {
   "cell_type": "code",
   "execution_count": null,
   "metadata": {},
   "outputs": [],
   "source": [
    "fig = plt.figure(figsize=(12,8))\n",
    "plt.plot(compare_df['A Growth'], 'r', label='A Growth')\n",
    "plt.plot(compare_df['H Growth'], 'b', label='H Growth')\n",
    "plt.legend(loc=1)\n",
    "\n",
    "plt.xlabel(\"Date\")\n",
    "plt.ylabel('Growth')"
   ]
  },
  {
   "cell_type": "code",
   "execution_count": null,
   "metadata": {},
   "outputs": [],
   "source": [
    "fig = plt.figure(figsize=(12,8))\n",
    "plt.scatter(limit_df['Date'], limit_df['A Growth'], c='r', label='A Growth')\n",
    "plt.scatter(limit_df['Date'], limit_df['H Growth'], c='b', label='H Growth')\n",
    "plt.legend(loc=1)\n",
    "\n",
    "plt.xlabel(\"Date (Limit)\")\n",
    "plt.ylabel('Growth (Limit)')"
   ]
  },
  {
   "cell_type": "code",
   "execution_count": null,
   "metadata": {},
   "outputs": [],
   "source": [
    "notlimit_df = compare_df[(compare_df['A Growth']<=10) | (compare_df['A Growth']>=-10)]"
   ]
  },
  {
   "cell_type": "code",
   "execution_count": null,
   "metadata": {},
   "outputs": [],
   "source": [
    "fig = plt.figure(figsize=(12,8))\n",
    "plt.plot(notlimit_df['ClosePriceA'], 'r', label='A Share Close Price')\n",
    "plt.plot(notlimit_df['AdjustedPrice(H)'], 'b', label='Adjusted H Share Close Price')\n",
    "plt.legend(loc=1)\n",
    "\n",
    "plt.xlabel(\"Date\")\n",
    "plt.ylabel('Close Price')\n",
    "plt.savefig('./Close Price A share.png')"
   ]
  },
  {
   "cell_type": "code",
   "execution_count": null,
   "metadata": {},
   "outputs": [],
   "source": [
    "fig = plt.figure(figsize=(12,8))\n",
    "plt.plot(notlimit_df['A Growth'], 'r', label='A Growth')\n",
    "plt.plot(notlimit_df['H Growth'], 'b', label='H Growth')\n",
    "plt.legend(loc=1)\n",
    "\n",
    "plt.xlabel(\"Date\")\n",
    "plt.ylabel('Growth')"
   ]
  },
  {
   "cell_type": "code",
   "execution_count": null,
   "metadata": {},
   "outputs": [],
   "source": [
    "fig = plt.figure(figsize=(12,8))\n",
    "plt.subplot(2,1,1)\n",
    "plt.plot(notlimit_df['A Growth'], 'r', label='A Growth')\n",
    "plt.ylim(-20, 20)\n",
    "plt.legend(loc=1)\n",
    "plt.xlabel(\"Date\")\n",
    "plt.ylabel('Growth (A)')\n",
    "\n",
    "plt.subplot(2,1,2)\n",
    "plt.plot(notlimit_df['H Growth'], 'b', label='H Growth')\n",
    "plt.ylim(-20, 20)\n",
    "plt.legend(loc=1)\n",
    "\n",
    "plt.xlabel(\"Date\")\n",
    "plt.ylabel('Growth (H)')"
   ]
  },
  {
   "cell_type": "code",
   "execution_count": null,
   "metadata": {},
   "outputs": [],
   "source": [
    "diff = compare_df['ClosePriceA'] - compare_df['AdjustedPrice(H)']\n",
    "fig = plt.figure(figsize=(12,8))\n",
    "plt.grid(True)\n",
    "plt.plot(diff, label='Price Difference')\n",
    "plt.legend(loc=1)\n",
    "plt.xlabel(\"Date\")\n",
    "plt.ylabel('Price Difference')"
   ]
  },
  {
   "cell_type": "code",
   "execution_count": null,
   "metadata": {},
   "outputs": [],
   "source": [
    "### draw price diff of days when A share reaches the limit\n",
    "diff = limit_df['ClosePriceA'] - limit_df['AdjustedPrice(H)']\n",
    "fig = plt.figure(figsize=(12,8))\n",
    "plt.grid(True)\n",
    "plt.plot(diff, label='Price Difference')\n",
    "plt.legend(loc=1)\n",
    "plt.xlabel(\"Date\")\n",
    "plt.ylabel('Price Difference')"
   ]
  },
  {
   "cell_type": "code",
   "execution_count": null,
   "metadata": {},
   "outputs": [],
   "source": [
    "### draw price diff of days when A share reaches the limit\n",
    "diff = notlimit_df['ClosePriceA'] - notlimit_df['AdjustedPrice(H)']\n",
    "fig = plt.figure(figsize=(12,8))\n",
    "plt.grid(True)\n",
    "plt.plot(diff, label='Price Difference')\n",
    "plt.legend(loc=1)\n",
    "plt.xlabel(\"Date\")\n",
    "plt.ylabel('Price Difference')"
   ]
  },
  {
   "cell_type": "code",
   "execution_count": null,
   "metadata": {},
   "outputs": [],
   "source": [
    "notlimit_df.to_csv('./not_limit.csv')"
   ]
  },
  {
   "cell_type": "code",
   "execution_count": null,
   "metadata": {},
   "outputs": [],
   "source": []
  }
 ],
 "metadata": {
  "kernelspec": {
   "display_name": "Python 3",
   "language": "python",
   "name": "python3"
  },
  "language_info": {
   "codemirror_mode": {
    "name": "ipython",
    "version": 3
   },
   "file_extension": ".py",
   "mimetype": "text/x-python",
   "name": "python",
   "nbconvert_exporter": "python",
   "pygments_lexer": "ipython3",
   "version": "3.7.2"
  }
 },
 "nbformat": 4,
 "nbformat_minor": 2
}
