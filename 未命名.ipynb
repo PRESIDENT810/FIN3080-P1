{
 "cells": [
  {
   "cell_type": "code",
   "execution_count": 2,
   "metadata": {},
   "outputs": [],
   "source": [
    "import numpy as np\n",
    "import pandas as pd\n",
    "import matplotlib.pyplot as plt"
   ]
  },
  {
   "cell_type": "code",
   "execution_count": 3,
   "metadata": {},
   "outputs": [],
   "source": [
    "df = pd.read_csv('./csv/000063.SZ.csv')"
   ]
  },
  {
   "cell_type": "code",
   "execution_count": 4,
   "metadata": {},
   "outputs": [
    {
     "data": {
      "text/html": [
       "<div>\n",
       "<style scoped>\n",
       "    .dataframe tbody tr th:only-of-type {\n",
       "        vertical-align: middle;\n",
       "    }\n",
       "\n",
       "    .dataframe tbody tr th {\n",
       "        vertical-align: top;\n",
       "    }\n",
       "\n",
       "    .dataframe thead th {\n",
       "        text-align: right;\n",
       "    }\n",
       "</style>\n",
       "<table border=\"1\" class=\"dataframe\">\n",
       "  <thead>\n",
       "    <tr style=\"text-align: right;\">\n",
       "      <th></th>\n",
       "      <th>代码</th>\n",
       "      <th>简称</th>\n",
       "      <th>日期</th>\n",
       "      <th>前收盘价(元)</th>\n",
       "      <th>开盘价(元)</th>\n",
       "      <th>最高价(元)</th>\n",
       "      <th>最低价(元)</th>\n",
       "      <th>收盘价(元)</th>\n",
       "      <th>成交量(股)</th>\n",
       "      <th>成交金额(元)</th>\n",
       "      <th>涨跌(元)</th>\n",
       "      <th>涨跌幅(%)</th>\n",
       "      <th>均价(元)</th>\n",
       "    </tr>\n",
       "  </thead>\n",
       "  <tbody>\n",
       "    <tr>\n",
       "      <th>0</th>\n",
       "      <td>000063.SZ</td>\n",
       "      <td>中兴通讯</td>\n",
       "      <td>1997-11-18</td>\n",
       "      <td>--</td>\n",
       "      <td>21.81</td>\n",
       "      <td>24.10</td>\n",
       "      <td>20.75</td>\n",
       "      <td>20.80</td>\n",
       "      <td>39718400</td>\n",
       "      <td>877249017</td>\n",
       "      <td>--</td>\n",
       "      <td>--</td>\n",
       "      <td>22.0867</td>\n",
       "    </tr>\n",
       "    <tr>\n",
       "      <th>1</th>\n",
       "      <td>000063.SZ</td>\n",
       "      <td>中兴通讯</td>\n",
       "      <td>1997-11-19</td>\n",
       "      <td>20.80</td>\n",
       "      <td>20.30</td>\n",
       "      <td>21.39</td>\n",
       "      <td>20.00</td>\n",
       "      <td>20.25</td>\n",
       "      <td>9018400</td>\n",
       "      <td>185616993</td>\n",
       "      <td>-0.55</td>\n",
       "      <td>-2.6442</td>\n",
       "      <td>20.5820</td>\n",
       "    </tr>\n",
       "    <tr>\n",
       "      <th>2</th>\n",
       "      <td>000063.SZ</td>\n",
       "      <td>中兴通讯</td>\n",
       "      <td>1997-11-20</td>\n",
       "      <td>20.25</td>\n",
       "      <td>20.15</td>\n",
       "      <td>22.28</td>\n",
       "      <td>20.10</td>\n",
       "      <td>22.26</td>\n",
       "      <td>11910400</td>\n",
       "      <td>255535536</td>\n",
       "      <td>2.01</td>\n",
       "      <td>9.9259</td>\n",
       "      <td>21.4548</td>\n",
       "    </tr>\n",
       "    <tr>\n",
       "      <th>3</th>\n",
       "      <td>000063.SZ</td>\n",
       "      <td>中兴通讯</td>\n",
       "      <td>1997-11-21</td>\n",
       "      <td>22.26</td>\n",
       "      <td>22.50</td>\n",
       "      <td>22.60</td>\n",
       "      <td>21.30</td>\n",
       "      <td>21.47</td>\n",
       "      <td>8551400</td>\n",
       "      <td>186783435</td>\n",
       "      <td>-0.79</td>\n",
       "      <td>-3.5490</td>\n",
       "      <td>21.8424</td>\n",
       "    </tr>\n",
       "    <tr>\n",
       "      <th>4</th>\n",
       "      <td>000063.SZ</td>\n",
       "      <td>中兴通讯</td>\n",
       "      <td>1997-11-24</td>\n",
       "      <td>21.47</td>\n",
       "      <td>21.25</td>\n",
       "      <td>22.36</td>\n",
       "      <td>21.05</td>\n",
       "      <td>21.84</td>\n",
       "      <td>5451200</td>\n",
       "      <td>119508574</td>\n",
       "      <td>0.37</td>\n",
       "      <td>1.7233</td>\n",
       "      <td>21.9234</td>\n",
       "    </tr>\n",
       "  </tbody>\n",
       "</table>\n",
       "</div>"
      ],
      "text/plain": [
       "          代码    简称          日期 前收盘价(元)  开盘价(元)  最高价(元)  最低价(元)  收盘价(元)  \\\n",
       "0  000063.SZ  中兴通讯  1997-11-18      --   21.81   24.10   20.75   20.80   \n",
       "1  000063.SZ  中兴通讯  1997-11-19   20.80   20.30   21.39   20.00   20.25   \n",
       "2  000063.SZ  中兴通讯  1997-11-20   20.25   20.15   22.28   20.10   22.26   \n",
       "3  000063.SZ  中兴通讯  1997-11-21   22.26   22.50   22.60   21.30   21.47   \n",
       "4  000063.SZ  中兴通讯  1997-11-24   21.47   21.25   22.36   21.05   21.84   \n",
       "\n",
       "     成交量(股)    成交金额(元)  涨跌(元)   涨跌幅(%)    均价(元)  \n",
       "0  39718400  877249017     --       --  22.0867  \n",
       "1   9018400  185616993  -0.55  -2.6442  20.5820  \n",
       "2  11910400  255535536   2.01   9.9259  21.4548  \n",
       "3   8551400  186783435  -0.79  -3.5490  21.8424  \n",
       "4   5451200  119508574   0.37   1.7233  21.9234  "
      ]
     },
     "execution_count": 4,
     "metadata": {},
     "output_type": "execute_result"
    }
   ],
   "source": [
    "df.head()"
   ]
  },
  {
   "cell_type": "code",
   "execution_count": 7,
   "metadata": {},
   "outputs": [],
   "source": [
    "df = df.loc[1:]"
   ]
  },
  {
   "cell_type": "code",
   "execution_count": 8,
   "metadata": {},
   "outputs": [],
   "source": [
    "df['涨跌幅(%)'] = df['涨跌幅(%)'].astype(float)"
   ]
  },
  {
   "cell_type": "code",
   "execution_count": 15,
   "metadata": {},
   "outputs": [
    {
     "ename": "TypeError",
     "evalue": "'tuple' object is not callable",
     "output_type": "error",
     "traceback": [
      "\u001b[0;31m---------------------------------------------------------------------------\u001b[0m",
      "\u001b[0;31mTypeError\u001b[0m                                 Traceback (most recent call last)",
      "\u001b[0;32m<ipython-input-15-f5798df27422>\u001b[0m in \u001b[0;36m<module>\u001b[0;34m\u001b[0m\n\u001b[0;32m----> 1\u001b[0;31m \u001b[0mdf\u001b[0m\u001b[0;34m[\u001b[0m\u001b[0;34m(\u001b[0m\u001b[0mdf\u001b[0m\u001b[0;34m[\u001b[0m\u001b[0;34m'涨跌幅(%)'\u001b[0m\u001b[0;34m]\u001b[0m\u001b[0;34m>=\u001b[0m\u001b[0;36m10\u001b[0m\u001b[0;34m)\u001b[0m \u001b[0;34m|\u001b[0m \u001b[0;34m(\u001b[0m\u001b[0mdf\u001b[0m\u001b[0;34m[\u001b[0m\u001b[0;34m'涨跌幅(%)'\u001b[0m\u001b[0;34m]\u001b[0m\u001b[0;34m<=\u001b[0m\u001b[0;34m-\u001b[0m\u001b[0;36m10\u001b[0m\u001b[0;34m)\u001b[0m\u001b[0;34m]\u001b[0m\u001b[0;34m.\u001b[0m\u001b[0mshape\u001b[0m\u001b[0;34m(\u001b[0m\u001b[0;34m)\u001b[0m\u001b[0;34m\u001b[0m\u001b[0;34m\u001b[0m\u001b[0m\n\u001b[0m",
      "\u001b[0;31mTypeError\u001b[0m: 'tuple' object is not callable"
     ]
    }
   ],
   "source": []
  },
  {
   "cell_type": "code",
   "execution_count": null,
   "metadata": {},
   "outputs": [],
   "source": []
  }
 ],
 "metadata": {
  "kernelspec": {
   "display_name": "Python 3",
   "language": "python",
   "name": "python3"
  },
  "language_info": {
   "codemirror_mode": {
    "name": "ipython",
    "version": 3
   },
   "file_extension": ".py",
   "mimetype": "text/x-python",
   "name": "python",
   "nbconvert_exporter": "python",
   "pygments_lexer": "ipython3",
   "version": "3.7.2"
  }
 },
 "nbformat": 4,
 "nbformat_minor": 2
}
